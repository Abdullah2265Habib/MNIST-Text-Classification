{
 "cells": [
  {
   "cell_type": "markdown",
   "id": "e2f0416f-c9c4-4beb-832a-52ee782133be",
   "metadata": {},
   "source": [
    "# Imports"
   ]
  },
  {
   "cell_type": "code",
   "execution_count": 9,
   "id": "92a861e6-2465-4d57-a306-722ff5ff9c0c",
   "metadata": {},
   "outputs": [],
   "source": [
    "from PIL import Image, ImageOps\n",
    "import numpy as np\n",
    "import matplotlib.pyplot as plt\n",
    "from keras.models import load_model"
   ]
  },
  {
   "cell_type": "markdown",
   "id": "5577145c-7c75-4ea6-8fb7-4564300b4f18",
   "metadata": {},
   "source": [
    "# Loading the saved model"
   ]
  },
  {
   "cell_type": "code",
   "execution_count": 10,
   "id": "169f231f-fb46-43ca-9eeb-b66786f1e18a",
   "metadata": {},
   "outputs": [
    {
     "name": "stderr",
     "output_type": "stream",
     "text": [
      "WARNING:absl:Compiled the loaded model, but the compiled metrics have yet to be built. `model.compile_metrics` will be empty until you train or evaluate the model.\n"
     ]
    }
   ],
   "source": [
    "model = load_model(\"mnist_model.h5\")"
   ]
  },
  {
   "cell_type": "markdown",
   "id": "f2c34d3b-30b3-4161-9a1d-1f967871b226",
   "metadata": {},
   "source": [
    "# Preprocessing function"
   ]
  },
  {
   "cell_type": "code",
   "execution_count": 11,
   "id": "be9c23e5-a89b-4378-a6fe-ba755009b5e4",
   "metadata": {},
   "outputs": [],
   "source": [
    "def preprocess_image(img_path):\n",
    "    img = Image.open(img_path).convert('L')         # Grayscale\n",
    "    img = ImageOps.invert(img)                      # Invert colors\n",
    "    img = img.resize((28, 28))                      # Resize to 28x28\n",
    "    img_array = np.array(img) / 255.0               # Normalize to [0, 1]\n",
    "    img_array = img_array.reshape(1, 784)           # Reshape for model input\n",
    "    return img_array"
   ]
  },
  {
   "cell_type": "markdown",
   "id": "874c2b92-8fed-45b3-aca5-6a4e3c3dba9b",
   "metadata": {},
   "source": [
    "# Image Loading and Processing"
   ]
  },
  {
   "cell_type": "code",
   "execution_count": 12,
   "id": "4940e368-3c8b-403f-a1d3-adb16f5b2e31",
   "metadata": {},
   "outputs": [],
   "source": [
    "img_path = \"test/image2/digit.png\"  # path to image\n",
    "x_input = preprocess_image(img_path)"
   ]
  },
  {
   "cell_type": "markdown",
   "id": "4ecf1890-d013-4267-bc9e-73978eed04bc",
   "metadata": {},
   "source": [
    "# Prediction"
   ]
  },
  {
   "cell_type": "code",
   "execution_count": 13,
   "id": "400ebf0e-89d9-4638-885f-af8912d8522e",
   "metadata": {},
   "outputs": [
    {
     "name": "stdout",
     "output_type": "stream",
     "text": [
      "WARNING:tensorflow:6 out of the last 6 calls to <function TensorFlowTrainer.make_predict_function.<locals>.one_step_on_data_distributed at 0x00000161A5301AB0> triggered tf.function retracing. Tracing is expensive and the excessive number of tracings could be due to (1) creating @tf.function repeatedly in a loop, (2) passing tensors with different shapes, (3) passing Python objects instead of tensors. For (1), please define your @tf.function outside of the loop. For (2), @tf.function has reduce_retracing=True option that can avoid unnecessary retracing. For (3), please refer to https://www.tensorflow.org/guide/function#controlling_retracing and https://www.tensorflow.org/api_docs/python/tf/function for  more details.\n"
     ]
    },
    {
     "name": "stderr",
     "output_type": "stream",
     "text": [
      "WARNING:tensorflow:6 out of the last 6 calls to <function TensorFlowTrainer.make_predict_function.<locals>.one_step_on_data_distributed at 0x00000161A5301AB0> triggered tf.function retracing. Tracing is expensive and the excessive number of tracings could be due to (1) creating @tf.function repeatedly in a loop, (2) passing tensors with different shapes, (3) passing Python objects instead of tensors. For (1), please define your @tf.function outside of the loop. For (2), @tf.function has reduce_retracing=True option that can avoid unnecessary retracing. For (3), please refer to https://www.tensorflow.org/guide/function#controlling_retracing and https://www.tensorflow.org/api_docs/python/tf/function for  more details.\n"
     ]
    },
    {
     "name": "stdout",
     "output_type": "stream",
     "text": [
      "\u001b[1m1/1\u001b[0m \u001b[32m━━━━━━━━━━━━━━━━━━━━\u001b[0m\u001b[37m\u001b[0m \u001b[1m0s\u001b[0m 80ms/step\n",
      "Predicted Digit: 4\n"
     ]
    }
   ],
   "source": [
    "pred = model.predict(x_input)\n",
    "digit = np.argmax(pred)\n",
    "print(f\"Predicted Digit: {digit}\")"
   ]
  },
  {
   "cell_type": "markdown",
   "id": "8f7c522c-619c-4354-ab54-ad6f226c45b8",
   "metadata": {},
   "source": [
    "# Show Image"
   ]
  },
  {
   "cell_type": "code",
   "execution_count": 14,
   "id": "0c9ada15-4588-4b9c-a446-6c0370bb9d24",
   "metadata": {},
   "outputs": [
    {
     "data": {
      "image/png": "[encoded data removed]",
      "text/plain": [
       "<Figure size 640x480 with 1 Axes>"
      ]
     },
     "metadata": {},
     "output_type": "display_data"
    }
   ],
   "source": [
    "plt.imshow(x_input.reshape(28, 28), cmap='gray')\n",
    "plt.title(f\"Predicted: {digit}\")\n",
    "plt.axis('off')\n",
    "plt.show()"
   ]
  }
 ],
 "metadata": {
  "kernelspec": {
   "display_name": "Python 3.10",
   "language": "python",
   "name": "py310"
  },
  "language_info": {
   "codemirror_mode": {
    "name": "ipython",
    "version": 3
   },
   "file_extension": ".py",
   "mimetype": "text/x-python",
   "name": "python",
   "nbconvert_exporter": "python",
   "pygments_lexer": "ipython3",
   "version": "3.10.0"
  }
 },
 "nbformat": 4,
 "nbformat_minor": 5
}
